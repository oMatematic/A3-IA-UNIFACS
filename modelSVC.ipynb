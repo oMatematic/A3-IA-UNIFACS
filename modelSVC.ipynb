{
  "nbformat": 4,
  "nbformat_minor": 0,
  "metadata": {
    "colab": {
      "provenance": [],
      "include_colab_link": true
    },
    "kernelspec": {
      "name": "python3",
      "display_name": "Python 3"
    },
    "language_info": {
      "name": "python"
    }
  },
  "cells": [
    {
      "cell_type": "markdown",
      "metadata": {
        "id": "view-in-github",
        "colab_type": "text"
      },
      "source": [
        "<a href=\"https://colab.research.google.com/github/oMatematic/A3-IA-UNIFACS/blob/main/modelSVC.ipynb\" target=\"_parent\"><img src=\"https://colab.research.google.com/assets/colab-badge.svg\" alt=\"Open In Colab\"/></a>"
      ]
    },
    {
      "cell_type": "code",
      "execution_count": null,
      "metadata": {
        "id": "l9nU6IA2L69B"
      },
      "outputs": [],
      "source": [
        "import pandas as pd\n",
        "from sklearn.svm import SVC\n",
        "from sklearn.metrics import  accuracy_score\n",
        "\n",
        "\n",
        "#Importando as bases de dados e teste\n",
        "dados = pd.read_csv('dados.csv')\n",
        "teste = pd.read_csv('teste.csv')\n",
        "\n",
        "\n",
        "#Removendo dados vazios (N/A)\n",
        "dados= dados.dropna()\n",
        "teste= teste.dropna()\n",
        "\n",
        "df_teste= teste\n",
        "df_treino= dados\n",
        "\n",
        "\n",
        "x_treino= df_treino.iloc[:, [0,1,2, 3, 4, 5, 6, 8, 9,10,11,12,13,14,15]]\n",
        "y_treino=df_treino.iloc[:, [7]]\n",
        "\n",
        "model=SVC()\n",
        "\n",
        "model.fit(x_treino,y_treino)\n",
        "model=SVC()\n",
        "\n",
        "model.fit(x_treino,y_treino)\n",
        "\n",
        "\n",
        "x_teste= df_teste.iloc[:, [0,1,2, 3, 4, 5, 6, 8, 9,10,11,12,13,14,15]]\n",
        "y_teste=df_teste.iloc[:, [7]]\n",
        "\n",
        "y_pred= model.predict(x_teste)\n",
        "\n"
      ]
    },
    {
      "cell_type": "code",
      "source": [
        "print(f\"o Valor de precisão é equivalente a: {100*(accuracy_score(y_teste,y_pred)):.2f} %\")"
      ],
      "metadata": {
        "colab": {
          "base_uri": "https://localhost:8080/"
        },
        "id": "mkdVjy87uI_K",
        "outputId": "5c18a03d-4cc7-46e0-ce3b-c85d11b4941e"
      },
      "execution_count": 67,
      "outputs": [
        {
          "output_type": "stream",
          "name": "stdout",
          "text": [
            "o Valor de precisão é equivalente a: 87.69 %\n"
          ]
        }
      ]
    }
  ]
}